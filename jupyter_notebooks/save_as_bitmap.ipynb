{
 "cells": [
  {
   "cell_type": "code",
   "execution_count": 14,
   "id": "8f895b34",
   "metadata": {},
   "outputs": [],
   "source": [
    "import os #to get all picture in directory\n",
    "from PIL import Image #to open images\n",
    "import numpy as np #load in numpy module\n",
    "import sys\n",
    "\n",
    "# Get the list of all files in directory\n",
    "path = \"images_handheld_resized\"\n",
    "dir_list = os.listdir(path)\n",
    "\n",
    "# Initialize dictionaries to hold bitmap information for each image\n",
    "r = {}\n",
    "b = {}\n",
    "g = {}\n",
    "rgb = {}\n",
    "\n",
    "# loop through files and get bit map for each (save as object where filename => bitmap for r,g,b)\n",
    "for file in dir_list:\n",
    "    \n",
    "    # method found https://stackoverflow.com/questions/46385999/transform-an-image-to-a-bitmap\n",
    "    img = Image.open(path + \"\\\\\" + file)\n",
    "    ary = np.array(img)\n",
    "    \n",
    "    # Save all 3 together\n",
    "    rgb[file] = ary\n",
    "    \n",
    "    # Split the three channels\n",
    "    r[file], g[file], b[file] = np.split(ary,3,axis=2)\n",
    "    \n",
    "    # Re-shape arrays\n",
    "    r[file]=r[file].reshape(-1)\n",
    "    g[file]=g[file].reshape(-1)\n",
    "    b[file]=b[file].reshape(-1)\n",
    "    rgb[file]=rgb[file].reshape(-1)\n"
   ]
  },
  {
   "cell_type": "code",
   "execution_count": 15,
   "id": "a4f50604",
   "metadata": {},
   "outputs": [],
   "source": [
    "# resize sample image (may do for all at some point)\n",
    "img = Image.open(path + \"\\\\DSC00025.JPG\")\n",
    "small_img = img.resize((600, 400))\n",
    "small_img.save(path + '\\\\600_400_DSC00025.JPG')\n",
    "smaller_img = img.resize((300, 200))\n",
    "smaller_img.save(path + '\\\\300_200_DSC00025.JPG')\n",
    "smallest_img = img.resize((120, 80))\n",
    "smallest_img.save(path + '\\\\120_80_DSC00025.JPG')"
   ]
  },
  {
   "cell_type": "code",
   "execution_count": 3,
   "id": "23048bd9",
   "metadata": {
    "scrolled": true
   },
   "outputs": [
    {
     "data": {
      "text/plain": [
       "(960000,)"
      ]
     },
     "execution_count": 3,
     "metadata": {},
     "output_type": "execute_result"
    }
   ],
   "source": [
    "#set max-size of arrays for output\n",
    "#np.set_printoptions(threshold=sys.maxsize)\n",
    "\n",
    "#convert array to string\n",
    "#np.array2string(r['DSC00025.JPG'], precision=2, separator=',', suppress_small=True)\n",
    "\n",
    "r['DSC00025.JPG'].shape"
   ]
  },
  {
   "cell_type": "code",
   "execution_count": 4,
   "id": "f2785ee2",
   "metadata": {},
   "outputs": [
    {
     "data": {
      "text/plain": [
       "array([58, 59, 61, ..., 73, 74, 75], dtype=uint8)"
      ]
     },
     "execution_count": 4,
     "metadata": {},
     "output_type": "execute_result"
    }
   ],
   "source": [
    "r['DSC00025.JPG']"
   ]
  },
  {
   "cell_type": "code",
   "execution_count": 62,
   "id": "8db41d19",
   "metadata": {},
   "outputs": [],
   "source": [
    "np.savetxt('DSC00025_rgb.csv', rgb['DSC00025.JPG'], delimiter = ',')\n",
    "#g['DSC00025.JPG'].tofile('DSC00025_g.csv', sep = ',')\n",
    "#b['DSC00025.JPG'].tofile('DSC00025_b.csv', sep = ',')"
   ]
  },
  {
   "cell_type": "code",
   "execution_count": 1,
   "id": "35f26b99",
   "metadata": {},
   "outputs": [],
   "source": [
    "#import csv\n",
    "#with open('RGB_Channels.csv', 'w') as f:\n",
    "#    for key in r.keys():\n",
    "#        f.write(\"%s,%s\\n\"%(key,r[key]))"
   ]
  },
  {
   "cell_type": "code",
   "execution_count": null,
   "id": "51e354f1",
   "metadata": {},
   "outputs": [],
   "source": []
  }
 ],
 "metadata": {
  "kernelspec": {
   "display_name": "Python 3 (ipykernel)",
   "language": "python",
   "name": "python3"
  },
  "language_info": {
   "codemirror_mode": {
    "name": "ipython",
    "version": 3
   },
   "file_extension": ".py",
   "mimetype": "text/x-python",
   "name": "python",
   "nbconvert_exporter": "python",
   "pygments_lexer": "ipython3",
   "version": "3.9.12"
  }
 },
 "nbformat": 4,
 "nbformat_minor": 5
}
